{
  "nbformat": 4,
  "nbformat_minor": 0,
  "metadata": {
    "colab": {
      "provenance": []
    },
    "kernelspec": {
      "name": "python3",
      "display_name": "Python 3"
    },
    "language_info": {
      "name": "python"
    }
  },
  "cells": [
    {
      "cell_type": "markdown",
      "source": [
        "# **Crossing the bridge game: One human player**\n",
        "\n",
        "**By Chu Gia Han, Nguyen Duy, Nguyen Phuong Thuy.**\n",
        "\n",
        "---\n",
        "\n",
        "In this problem, a group of people needs to cross a bridge at night. They have only **one torch**, and at most **two people** can cross at a time. The time it takes to cross is determined by the **slower** of the two. The objective is to **minimize the total time** for all individuals to cross the bridge.\n",
        "        \n",
        "# Start and Goal:\n",
        "\n",
        "- Start: All people and the torch are one side A\n",
        "- End: All people and the torch move to side B\n",
        "\n",
        "# Key Constraints\n",
        "\n",
        "- At most **two people** can cross at once.\n",
        "- They must carry the **torch** to cross.\n",
        "- The **torch must be returned** if there are people still waiting on the starting side.\n",
        "- When **two people** travel together, their **travel time** would be equal to the speed of the **slower person**.\n",
        "- The goal is to find the **optimal crossing sequence** with the **least total time**.\n",
        "\n",
        "\n",
        "# Search algorithms:\n",
        "\n",
        "- `Uninformed` search:\n",
        "> Breadth-First Search\n",
        ">\n",
        "> Depth-First Search\n",
        ">\n",
        "> Uniform-Cost Search\n",
        ">\n",
        "> Depth-Limited Search\n",
        ">\n",
        "> Iterative Deepening Search\n",
        "\n",
        "- `Informed` search:\n",
        "> Greedy Search\n",
        ">\n",
        "> A* Search"
      ],
      "metadata": {
        "id": "I-yut1nezqPv"
      }
    },
    {
      "cell_type": "markdown",
      "source": [
        "**Import needed library**\n",
        "\n",
        "> `NumPy` : Library to work with the 2D maze/grid in Python  \n",
        "> `Matplotlib` : Primarily for visualization of the 2D maze/grid  \n",
        "> `Intertools` : Fast, memory-efficient tools for working with iterators              \n",
        "> `Queue` : Library to work with FIFO, LIFO, Priority queues      "
      ],
      "metadata": {
        "id": "4KcwxSGtVyp9"
      }
    },
    {
      "cell_type": "code",
      "execution_count": null,
      "metadata": {
        "id": "hcHt56dsYyfH"
      },
      "outputs": [],
      "source": [
        "import numpy as np\n",
        "import matplotlib.pyplot as plt\n",
        "import matplotlib.patches as patches\n",
        "import itertools\n",
        "import queue"
      ]
    },
    {
      "cell_type": "markdown",
      "source": [
        "# Create all the functions needed for the search\n",
        "\n",
        "To visualise and search the solution for the game, we need to define some necessary functions."
      ],
      "metadata": {
        "id": "OETKhsJ9V3kt"
      }
    },
    {
      "cell_type": "markdown",
      "source": [
        "**Draw bridge function**\n",
        "- This function is used to visualise the bridge and its both side at a specific state.\n",
        "- Notation:\n",
        "> `Red stick`: Person with speed of 1 minute\n",
        ">\n",
        "> `Blue stick`: Person with speed of 2 minutes\n",
        ">\n",
        "> `Green stick`: Person with speed of 5 minutes\n",
        ">\n",
        "> `Yellow stick`: Person with speed of 10 minutes\n",
        ">\n",
        "> `Brown stick`: The bridge\n",
        ">\n",
        "> `Orange circle`: The torch\n",
        ">\n",
        "> `Left side`: Side A (start)\n",
        ">\n",
        "> `Right side`: Side B (goal)"
      ],
      "metadata": {
        "id": "p5nrMi1az17b"
      }
    },
    {
      "cell_type": "code",
      "source": [
        "# Helper function to draw the bridge state\n",
        "def draw_bridge_state(side_A, side_B, torch_on_A):\n",
        "    fig, ax = plt.subplots(figsize=(3,3))\n",
        "    ax.plot([0.5, 0.5], [0.2, 1.2], color='brown', lw=4)  # Vertical Bridge\n",
        "    ax.set_xlim(0, 1)\n",
        "    ax.set_ylim(0.2, 1.2)\n",
        "    ax.axis('off')\n",
        "\n",
        "    # Speed to color mapping\n",
        "    speed_to_color = {1: \"red\", 2: \"blue\", 5: \"green\", 10: \"yellow\"}\n",
        "\n",
        "    def draw_people(side, x_position):\n",
        "        for i, speed in enumerate(sorted(side)):  # Sort by speed\n",
        "            color = speed_to_color.get(speed, \"gray\")\n",
        "            stick = patches.Rectangle((x_position, 0.4 + i * 0.2), 0.01, 0.1, color=color, label=f'{speed}s')\n",
        "            ax.add_patch(stick)\n",
        "\n",
        "    draw_people(side_A, 0.35)\n",
        "    draw_people(side_B, 0.65)\n",
        "\n",
        "    # Draw the torch\n",
        "    if torch_on_A:\n",
        "        torch_position = (0.355, 0.3)\n",
        "    else:\n",
        "        torch_position = (0.645, 0.3)\n",
        "    torch = patches.Circle(torch_position, 0.02, color='orange', label='Torch')\n",
        "    ax.add_patch(torch)\n",
        "\n",
        "    plt.show()"
      ],
      "metadata": {
        "id": "75Y602GAY9zJ"
      },
      "execution_count": null,
      "outputs": []
    },
    {
      "cell_type": "markdown",
      "source": [
        "Now we will use the new function to draw the starting state of the game, where all people and the torch are on side A."
      ],
      "metadata": {
        "id": "60TE0fNLKVwZ"
      }
    },
    {
      "cell_type": "code",
      "source": [
        "# Draw the start state\n",
        "side_A = [1, 2, 5, 10]\n",
        "side_B = []\n",
        "torch_on_A = True\n",
        "\n",
        "# Start state with all people and the torch on side A\n",
        "start_state = (tuple(sorted(side_A)), tuple(sorted(side_B)), torch_on_A)\n",
        "# Goal state with all people and the torch on side B\n",
        "goal_state = (tuple(), tuple(sorted(side_A + side_B)), False)\n",
        "\n",
        "draw_bridge_state(start_state[0], start_state[1], start_state[2])\n"
      ],
      "metadata": {
        "colab": {
          "base_uri": "https://localhost:8080/",
          "height": 268
        },
        "id": "haXpxKHh9poa",
        "outputId": "51acf9a0-548e-4cab-b23d-5dd86d3dff99"
      },
      "execution_count": null,
      "outputs": [
        {
          "output_type": "display_data",
          "data": {
            "text/plain": [
              "<Figure size 300x300 with 1 Axes>"
            ],
            "image/png": "[encoded data removed]"
          },
          "metadata": {}
        }
      ]
    },
    {
      "cell_type": "markdown",
      "source": [
        "**Get next states function**\n",
        "- This function helps us to get all the possible states that can be achieved after the current state.\n",
        "- If the torch is on `side A`: Two people will carry the torch to side B.\n",
        "- Else, if the torch is on `side B`: One people will carry it back to side A"
      ],
      "metadata": {
        "id": "LxlFi35Kz7jE"
      }
    },
    {
      "cell_type": "code",
      "source": [
        "def get_next_states(side_A, side_B, torch_on_A):\n",
        "    '''Generate all possible next states given the current state.'''\n",
        "    next_states = []\n",
        "\n",
        "    # If the torch is on side A, exactly two people can move to side B\n",
        "    if torch_on_A:\n",
        "        # Generate all combinations of 2 people from side A\n",
        "        for person1, person2 in itertools.combinations(side_A, 2):\n",
        "            # Create new side_A and side_B after moving person1 and person2\n",
        "            new_side_A = list(side_A).copy()\n",
        "            new_side_B = list(side_B).copy()\n",
        "            new_side_A.remove(person1)\n",
        "            new_side_A.remove(person2)\n",
        "            new_side_B.append(person1)\n",
        "            new_side_B.append(person2)\n",
        "\n",
        "            # Add the new state with torch on B (torch_on_A = False)\n",
        "            next_states.append((tuple(sorted(new_side_A)),\n",
        "                                tuple(sorted(new_side_B)), False))\n",
        "\n",
        "    # If the torch is on side B, only one person can move to side A\n",
        "    else:\n",
        "        for person in side_B:\n",
        "            # Create new side_A and side_B after moving person from B to A\n",
        "            new_side_A = list(side_A).copy()\n",
        "            new_side_B = list(side_B).copy()\n",
        "            new_side_A.append(person)\n",
        "            new_side_B.remove(person)\n",
        "\n",
        "            # Add the new state with torch on A\n",
        "            next_states.append((tuple(sorted(new_side_A)),\n",
        "                                tuple(sorted(new_side_B)), True))\n",
        "\n",
        "    return next_states"
      ],
      "metadata": {
        "id": "mh_TWxxBZE0l"
      },
      "execution_count": null,
      "outputs": []
    },
    {
      "cell_type": "markdown",
      "source": [
        "We can use get_next_states function to get all the possible states after the starting state. Then we will illustrate them using the draw_bridge_state function."
      ],
      "metadata": {
        "id": "S9oeEdSHNRbF"
      }
    },
    {
      "cell_type": "code",
      "source": [
        "# Draw all the next states of the start state\n",
        "next_states = get_next_states(start_state[0], start_state[1], start_state[2])\n",
        "\n",
        "for next_state in next_states:\n",
        "    draw_bridge_state(next_state[0], next_state[1], next_state[2])"
      ],
      "metadata": {
        "colab": {
          "base_uri": "https://localhost:8080/",
          "height": 1000
        },
        "id": "r2jiT5NC9-6r",
        "outputId": "495dd43d-d08d-4779-ec84-dd6a3b4a4b29"
      },
      "execution_count": null,
      "outputs": [
        {
          "output_type": "display_data",
          "data": {
            "text/plain": [
              "<Figure size 300x300 with 1 Axes>"
            ],
            "image/png": "[encoded data removed]"
          },
          "metadata": {}
        },
        {
          "output_type": "display_data",
          "data": {
            "text/plain": [
              "<Figure size 300x300 with 1 Axes>"
            ],
            "image/png": "[encoded data removed]"
          },
          "metadata": {}
        },
        {
          "output_type": "display_data",
          "data": {
            "text/plain": [
              "<Figure size 300x300 with 1 Axes>"
            ],
            "image/png": "[encoded data removed]"
          },
          "metadata": {}
        },
        {
          "output_type": "display_data",
          "data": {
            "text/plain": [
              "<Figure size 300x300 with 1 Axes>"
            ],
            "image/png": "[encoded data removed]"
          },
          "metadata": {}
        },
        {
          "output_type": "display_data",
          "data": {
            "text/plain": [
              "<Figure size 300x300 with 1 Axes>"
            ],
            "image/png": "[encoded data removed]"
          },
          "metadata": {}
        },
        {
          "output_type": "display_data",
          "data": {
            "text/plain": [
              "<Figure size 300x300 with 1 Axes>"
            ],
            "image/png": "[encoded data removed]"
          },
          "metadata": {}
        }
      ]
    },
    {
      "cell_type": "markdown",
      "source": [
        "**Reconstruct path function**\n",
        "- This function will travel backward from the goal to the starting state by using a dictionary to store each node's parent node.\n",
        "- After getting the path from the goal, we will reverse it to get the traveled path in the correct direction from the starting state."
      ],
      "metadata": {
        "id": "7Pl9W3Ki0APC"
      }
    },
    {
      "cell_type": "code",
      "source": [
        "def reconstruct_path(nodes_explored, start, goal):\n",
        "    '''Move backward from goal state to start state to find the path.\n",
        "       Then reverse to get the path in the correct direction.\n",
        "    '''\n",
        "    current_state = goal\n",
        "    path = []\n",
        "\n",
        "    while current_state != start:\n",
        "        path.append(current_state)\n",
        "        current_state = nodes_explored[current_state]\n",
        "\n",
        "    path.append(start)  # Include the start state\n",
        "    path.reverse()  # Reverse the path to show it from start to goal\n",
        "\n",
        "    return path"
      ],
      "metadata": {
        "id": "EDBueEPoZIAy"
      },
      "execution_count": null,
      "outputs": []
    },
    {
      "cell_type": "markdown",
      "source": [
        "**Show path function**\n",
        "- This function is used to draw all the states in a particular path."
      ],
      "metadata": {
        "id": "sL2sE-kW0F0l"
      }
    },
    {
      "cell_type": "code",
      "source": [
        "def show_path(path):\n",
        "    for state in path:\n",
        "        print(f\"Side A: {state[0]}, Side B: {state[1]}, Torch on A: {state[2]}\")\n",
        "        draw_bridge_state(state[0], state[1], state[2])"
      ],
      "metadata": {
        "id": "PSrFekCtaMgV"
      },
      "execution_count": null,
      "outputs": []
    },
    {
      "cell_type": "markdown",
      "source": [
        "**Get cost function**\n",
        "- This function is used to calculate the cost of travelling from a specific state to the next state.\n",
        "- When two people travel together, their travel time would be equal to the speed of the slower person."
      ],
      "metadata": {
        "id": "lAdTATzq0Kvp"
      }
    },
    {
      "cell_type": "code",
      "source": [
        "def get_cost(state, next_state):\n",
        "    ''' Compute cost of moving from one state to the next (maximum crossing time). '''\n",
        "    side_A, side_B, torch_on_A = state\n",
        "    next_side_A, next_side_B, next_torch_on_A = next_state\n",
        "\n",
        "    # The cost is determined by the slowest person crossing in that move\n",
        "    if torch_on_A:\n",
        "        crossing_people = set(side_A) - set(next_side_A)\n",
        "    else:\n",
        "        crossing_people = set(side_B) - set(next_side_B)\n",
        "\n",
        "    # Return max speed in crossing\n",
        "    if crossing_people:\n",
        "        return max(crossing_people)\n",
        "    else:\n",
        "        return 0"
      ],
      "metadata": {
        "id": "oZJMXHZISQw0"
      },
      "execution_count": null,
      "outputs": []
    },
    {
      "cell_type": "markdown",
      "source": [
        "**Compute path cost fucntion**\n",
        "- The function calculates the total cost of an entire path, from the starting state to the goal state."
      ],
      "metadata": {
        "id": "vc_HOY0C0DIc"
      }
    },
    {
      "cell_type": "code",
      "source": [
        "def compute_path_cost(path):\n",
        "    total_cost = 0\n",
        "    for i in range(len(path) - 1):\n",
        "        cost = get_cost(path[i], path[i+1])\n",
        "        total_cost += cost\n",
        "    return total_cost"
      ],
      "metadata": {
        "id": "vi0V9RzLo9ax"
      },
      "execution_count": null,
      "outputs": []
    },
    {
      "cell_type": "markdown",
      "source": [
        "# Applying search functions to determine the best-performing search and the optimal travelling path."
      ],
      "metadata": {
        "id": "4yJIYaFZWUj9"
      }
    },
    {
      "cell_type": "markdown",
      "source": [
        "---\n",
        "# I. Uninformed search strategies\n",
        "These algorithm use only the information available in the problem definition."
      ],
      "metadata": {
        "id": "mz_EhH2ZKxyD"
      }
    },
    {
      "cell_type": "markdown",
      "source": [
        "---\n",
        "# 1. Breadth-First Search function (BFS)\n",
        "\n",
        "**1.** It's a complete search: It explores all possible sequences of moves level-by-level by implementing Queue (FIFO).\n",
        "\n",
        "**2.** Breadth-First Search doesn’t rely on heuristics or randomness.\n",
        "\n",
        "**3.** Breadth-First Search is optimal when the steps cost equally.\n",
        "\n",
        "**4** However, it has problem with memory usage and scalability in case the group of people is much more larger.\n"
      ],
      "metadata": {
        "id": "alKgdvI50c0P"
      }
    },
    {
      "cell_type": "code",
      "source": [
        "def breadth_first_search(start, goal):\n",
        "    '''Perform Breadth-First Search (BFS) to find a path in the bridge-crossing problem.\n",
        "       Input:\n",
        "           - start: The initial state (tuple)\n",
        "           - goal: The goal state (tuple)\n",
        "           - get_next_states: Function to generate possible next states\n",
        "       Output:\n",
        "           - Dict of explored states {state: parentState}\n",
        "           - Count of total nodes processed\n",
        "    '''\n",
        "    frontier = queue.Queue()  # FIFO queue\n",
        "    frontier.put(start)\n",
        "    nodes_explored = {}  # To store explored states {state: parent_state}\n",
        "    nodes_explored[start] = None  # The start state has no parent\n",
        "    nodes_processed = 0\n",
        "\n",
        "    while not frontier.empty():\n",
        "        current_state = frontier.get()\n",
        "        nodes_processed += 1\n",
        "\n",
        "        if current_state == goal:\n",
        "            break\n",
        "\n",
        "        # Get next states from the current state\n",
        "        next_states = get_next_states(current_state[0], current_state[1], current_state[2])\n",
        "\n",
        "        for next_state in next_states:\n",
        "            if next_state not in nodes_explored:\n",
        "                nodes_explored[next_state] = current_state\n",
        "                frontier.put(next_state)\n",
        "\n",
        "    return nodes_explored, nodes_processed"
      ],
      "metadata": {
        "id": "fwU6DXZIZLSI"
      },
      "execution_count": null,
      "outputs": []
    },
    {
      "cell_type": "code",
      "source": [
        "# Set the starting state and goal\n",
        "side_A = [1, 2, 5, 10]\n",
        "side_B = []\n",
        "torch_on_A = True\n",
        "\n",
        "# Start state with all people and the torch on side A\n",
        "start_state = (tuple(sorted(side_A)), tuple(sorted(side_B)), torch_on_A)\n",
        "# Goal state with all people and the torch on side B\n",
        "goal_state = (tuple(), tuple(sorted(side_A + side_B)), False)\n",
        "\n",
        "# Run BFS\n",
        "nodes_explored, nodes_processed = breadth_first_search(start_state, goal_state)\n",
        "path = reconstruct_path(nodes_explored, start_state, goal_state)\n",
        "pathcost = compute_path_cost(path)\n",
        "\n",
        "# Print BFS output\n",
        "print(\"Breadth-First Search (BFS)\\n\")\n",
        "N = len(side_A) + len(side_B)  # Total number of people\n",
        "total_nodes = 2 * (2 ** N) - 2  # Every subset of people + torch position\n",
        "print(f\"Total nodes in the state space: {total_nodes}\")\n",
        "print(f\"Total nodes visited: {nodes_processed} | {np.round(100*(nodes_processed/total_nodes), 2)}%\")\n",
        "print(f\"Final path distance: {len(path)} steps\")\n",
        "print(\"Total Cost:\", pathcost, \"minutes\", \"\\n\")\n",
        "\n",
        "# Print the path and visualize it\n",
        "print(\"Path through the states:\")\n",
        "show_path(path)"
      ],
      "metadata": {
        "colab": {
          "base_uri": "https://localhost:8080/",
          "height": 1000
        },
        "id": "pVIxpTqnaRXz",
        "outputId": "1828c5a5-3742-4e15-d985-410c6422a067"
      },
      "execution_count": null,
      "outputs": [
        {
          "output_type": "stream",
          "name": "stdout",
          "text": [
            "Breadth-First Search (BFS)\n",
            "\n",
            "Total nodes in the state space: 30\n",
            "Total nodes visited: 22 | 73.33%\n",
            "Final path distance: 6 steps\n",
            "Total Cost: 19 minutes \n",
            "\n",
            "Path through the states:\n",
            "Side A: (1, 2, 5, 10), Side B: (), Torch on A: True\n"
          ]
        },
        {
          "output_type": "display_data",
          "data": {
            "text/plain": [
              "<Figure size 300x300 with 1 Axes>"
            ],
            "image/png": "[encoded data removed]"
          },
          "metadata": {}
        },
        {
          "output_type": "stream",
          "name": "stdout",
          "text": [
            "Side A: (5, 10), Side B: (1, 2), Torch on A: False\n"
          ]
        },
        {
          "output_type": "display_data",
          "data": {
            "text/plain": [
              "<Figure size 300x300 with 1 Axes>"
            ],
            "image/png": "[encoded data removed]"
          },
          "metadata": {}
        },
        {
          "output_type": "stream",
          "name": "stdout",
          "text": [
            "Side A: (1, 5, 10), Side B: (2,), Torch on A: True\n"
          ]
        },
        {
          "output_type": "display_data",
          "data": {
            "text/plain": [
              "<Figure size 300x300 with 1 Axes>"
            ],
            "image/png": "[encoded data removed]"
          },
          "metadata": {}
        },
        {
          "output_type": "stream",
          "name": "stdout",
          "text": [
            "Side A: (10,), Side B: (1, 2, 5), Torch on A: False\n"
          ]
        },
        {
          "output_type": "display_data",
          "data": {
            "text/plain": [
              "<Figure size 300x300 with 1 Axes>"
            ],
            "image/png": "[encoded data removed]"
          },
          "metadata": {}
        },
        {
          "output_type": "stream",
          "name": "stdout",
          "text": [
            "Side A: (1, 10), Side B: (2, 5), Torch on A: True\n"
          ]
        },
        {
          "output_type": "display_data",
          "data": {
            "text/plain": [
              "<Figure size 300x300 with 1 Axes>"
            ],
            "image/png": "[encoded data removed]"
          },
          "metadata": {}
        },
        {
          "output_type": "stream",
          "name": "stdout",
          "text": [
            "Side A: (), Side B: (1, 2, 5, 10), Torch on A: False\n"
          ]
        },
        {
          "output_type": "display_data",
          "data": {
            "text/plain": [
              "<Figure size 300x300 with 1 Axes>"
            ],
            "image/png": "[encoded data removed]"
          },
          "metadata": {}
        }
      ]
    },
    {
      "cell_type": "markdown",
      "source": [
        "As we can see from the data of Breath-First Search, the search explored most of the nodes (22/30) and return a path with the total cost of 19 minutes. This might not be the optimal solution as the cost for each step varies with the speed of the person/people travelling."
      ],
      "metadata": {
        "id": "eMiNckW8XcuB"
      }
    },
    {
      "cell_type": "markdown",
      "source": [
        "---\n",
        "# 2. Depth-First Search function\n",
        "\n",
        "**1.** It expands deepest unexpanded node which can be implemented by a stack (LIFO), and backtrack only when no more expansion.\\\n",
        "**2.** We cannot guarantee the optimal time for running and completeness for infinite-depth space/finite depth space with loop.\\\n",
        "**3.** Low memory usage.\\\n",
        "**4.** Give a fast solution but maybe not the best\\\n",
        "**5.** It's quite optimal for large scale puzzles (more people in a group)"
      ],
      "metadata": {
        "id": "o0ZgTIlx05UK"
      }
    },
    {
      "cell_type": "code",
      "source": [
        "def depth_first_search(start, goal):\n",
        "    '''Perform Depth-First Search (DFS) to find a path in the bridge-crossing problem.\n",
        "       Input:\n",
        "           - start: The initial state (tuple)\n",
        "           - goal: The goal state (tuple)\n",
        "           - get_next_states: Function to generate possible next states\n",
        "       Output:\n",
        "           - Dict of explored states {state: parentState}\n",
        "           - Count of total nodes processed\n",
        "    '''\n",
        "    frontier = queue.LifoQueue()  # LIFO stack for DFS\n",
        "    frontier.put(start)  # Add the start state to the frontier\n",
        "    nodes_explored = {}  # Dictionary to track explored states and their parents\n",
        "    nodes_explored[start] = None  # Start state has no parent\n",
        "    nodes_processed = 0  # Number of nodes processed\n",
        "\n",
        "    while not frontier.empty():\n",
        "        current_state = frontier.get()\n",
        "        nodes_processed += 1\n",
        "\n",
        "        # Stop if goal state is reached\n",
        "        if current_state == goal:\n",
        "            break\n",
        "\n",
        "        # Generate possible next states\n",
        "        next_states = get_next_states(current_state[0], current_state[1], current_state[2])\n",
        "\n",
        "        for next_state in next_states:\n",
        "            if next_state not in nodes_explored:\n",
        "                frontier.put(next_state)  # Push state to the stack\n",
        "                nodes_explored[next_state] = current_state  # Store parent state\n",
        "\n",
        "    return nodes_explored, nodes_processed"
      ],
      "metadata": {
        "id": "R3cSnT4afdj-"
      },
      "execution_count": null,
      "outputs": []
    },
    {
      "cell_type": "code",
      "source": [
        "# Set the starting state and goal\n",
        "side_A = [1, 2, 5, 10]\n",
        "side_B = []\n",
        "torch_on_A = True\n",
        "\n",
        "# Start state with all people and the torch on side A\n",
        "start_state = (tuple(sorted(side_A)), tuple(sorted(side_B)), torch_on_A)\n",
        "# Goal state with all people and the torch on side B\n",
        "goal_state = (tuple(), tuple(sorted(side_A + side_B)), False)\n",
        "\n",
        "# Run DFS\n",
        "nodes_explored, nodes_processed = depth_first_search(start_state, goal_state)\n",
        "path = reconstruct_path(nodes_explored, start_state, goal_state)\n",
        "pathcost = compute_path_cost(path)\n",
        "\n",
        "# Print DFS output\n",
        "print(\"Depth-First Search (DFS)\\n\")\n",
        "N = len(side_A) + len(side_B)  # Total number of people\n",
        "total_nodes = 2 * (2 ** N) - 2  # Every subset of people + torch position\n",
        "print(f\"Total nodes in the state space: {total_nodes}\")\n",
        "print(f\"Total nodes visited: {nodes_processed} | {np.round(100*(nodes_processed/total_nodes), 2)}%\")\n",
        "print(f\"Final path distance: {len(path)} steps\")\n",
        "print(\"Total Cost:\", pathcost, \"minutes\", \"\\n\")\n",
        "\n",
        "# Print the path and visualize it\n",
        "print(\"Path through the states:\")\n",
        "show_path(path)"
      ],
      "metadata": {
        "colab": {
          "base_uri": "https://localhost:8080/",
          "height": 1000
        },
        "id": "IE082_Y0gmzj",
        "outputId": "42acaecb-df17-465a-cf24-bcffbc641294"
      },
      "execution_count": null,
      "outputs": [
        {
          "output_type": "stream",
          "name": "stdout",
          "text": [
            "Depth-First Search (DFS)\n",
            "\n",
            "Total nodes in the state space: 30\n",
            "Total nodes visited: 6 | 20.0%\n",
            "Final path distance: 6 steps\n",
            "Total Cost: 50 minutes \n",
            "\n",
            "Path through the states:\n",
            "Side A: (1, 2, 5, 10), Side B: (), Torch on A: True\n"
          ]
        },
        {
          "output_type": "display_data",
          "data": {
            "text/plain": [
              "<Figure size 300x300 with 1 Axes>"
            ],
            "image/png": "[encoded data removed]"
          },
          "metadata": {}
        },
        {
          "output_type": "stream",
          "name": "stdout",
          "text": [
            "Side A: (1, 2), Side B: (5, 10), Torch on A: False\n"
          ]
        },
        {
          "output_type": "display_data",
          "data": {
            "text/plain": [
              "<Figure size 300x300 with 1 Axes>"
            ],
            "image/png": "[encoded data removed]"
          },
          "metadata": {}
        },
        {
          "output_type": "stream",
          "name": "stdout",
          "text": [
            "Side A: (1, 2, 10), Side B: (5,), Torch on A: True\n"
          ]
        },
        {
          "output_type": "display_data",
          "data": {
            "text/plain": [
              "<Figure size 300x300 with 1 Axes>"
            ],
            "image/png": "[encoded data removed]"
          },
          "metadata": {}
        },
        {
          "output_type": "stream",
          "name": "stdout",
          "text": [
            "Side A: (1,), Side B: (2, 5, 10), Torch on A: False\n"
          ]
        },
        {
          "output_type": "display_data",
          "data": {
            "text/plain": [
              "<Figure size 300x300 with 1 Axes>"
            ],
            "image/png": "[encoded data removed]"
          },
          "metadata": {}
        },
        {
          "output_type": "stream",
          "name": "stdout",
          "text": [
            "Side A: (1, 10), Side B: (2, 5), Torch on A: True\n"
          ]
        },
        {
          "output_type": "display_data",
          "data": {
            "text/plain": [
              "<Figure size 300x300 with 1 Axes>"
            ],
            "image/png": "[encoded data removed]"
          },
          "metadata": {}
        },
        {
          "output_type": "stream",
          "name": "stdout",
          "text": [
            "Side A: (), Side B: (1, 2, 5, 10), Torch on A: False\n"
          ]
        },
        {
          "output_type": "display_data",
          "data": {
            "text/plain": [
              "<Figure size 300x300 with 1 Axes>"
            ],
            "image/png": "[encoded data removed]"
          },
          "metadata": {}
        }
      ]
    },
    {
      "cell_type": "markdown",
      "source": [
        "By implementing Depth-First Search, we can recieve a solution after exploring only 6 nodes. However, the cost is very high comparing to Breadth-First Search (50 minutes in total)."
      ],
      "metadata": {
        "id": "-ciJrpm5YgRh"
      }
    },
    {
      "cell_type": "markdown",
      "source": [
        "----\n",
        "# 3. Uniform-Cost Search function\n",
        "\n",
        "**1.** It considers edge costs, and expand unexpanded node with the least pathcost.\\\n",
        "**2.** Modification of breath-first search, but use priority queue with pathcost instead of queue (FIFO) to order the elements.\\\n",
        "**3.** This can guarantee the optimal.\\\n",
        "**4.** It can handle the variable cost.\\\n",
        "**5.** However, its memory usage is moderate but not to high compares to Breadth-First Search.\n",
        "\n",
        "This is one of the best choices for this type of game."
      ],
      "metadata": {
        "id": "OW2BMQqE1Czh"
      }
    },
    {
      "cell_type": "code",
      "source": [
        "def uniform_cost_search(start, goal):\n",
        "    ''' Perform Uniform-Cost Search (UCS) to find the optimal path in the bridge-crossing problem.\n",
        "        Inputs:\n",
        "            - start: The initial state (tuple)\n",
        "            - goal: The goal state (tuple)\n",
        "            - get_next_states: Function to generate possible next states\n",
        "            - get_cost: Function to compute the cost of moving to a new state\n",
        "        Outputs:\n",
        "            - nodes_explored: Dict of explored states {state: parentState}\n",
        "            - pathcost: Dict of costs {state: cost_from_start}\n",
        "            - nodes_processed: Total number of states processed\n",
        "    '''\n",
        "    frontier = queue.PriorityQueue()  # Priority queue for UCS\n",
        "    frontier.put((0, start))  # Start node with cost 0\n",
        "    nodes_explored = {}  # Stores explored states and their parent states\n",
        "    nodes_explored[start] = None  # Start state has no parent\n",
        "    pathcost = {}  # Stores cost from start to each state\n",
        "    pathcost[start] = 0  # Cost from start to itself is 0\n",
        "    nodes_processed = 0  # Count of total nodes processed\n",
        "\n",
        "    while not frontier.empty():\n",
        "        current_cost, current_state = frontier.get()\n",
        "        nodes_processed += 1\n",
        "\n",
        "        # Stop when the goal state is reached\n",
        "        if current_state == goal:\n",
        "            break\n",
        "\n",
        "        # Generate possible next states\n",
        "        for next_state in get_next_states(current_state[0],current_state[1],current_state[2]):\n",
        "            new_cost = pathcost[current_state] + get_cost(current_state, next_state)\n",
        "\n",
        "            # Consider if not nodes_explored OR found a cheaper path\n",
        "            if next_state not in nodes_explored or new_cost < pathcost[next_state]:\n",
        "                frontier.put((new_cost, next_state))  # Push new state with priority\n",
        "                nodes_explored[next_state] = current_state  # Assign parent\n",
        "                pathcost[next_state] = new_cost  # Update path cost\n",
        "\n",
        "\n",
        "    return nodes_explored, nodes_processed, pathcost\n"
      ],
      "metadata": {
        "id": "WZZF1InK0a7O"
      },
      "execution_count": null,
      "outputs": []
    },
    {
      "cell_type": "code",
      "source": [
        "# Set the starting state and goal\n",
        "side_A = [1, 2, 5, 10]\n",
        "side_B = []\n",
        "torch_on_A = True\n",
        "\n",
        "# Start state with all people and the torch on side A\n",
        "start_state = (tuple(sorted(side_A)), tuple(sorted(side_B)), torch_on_A)\n",
        "# Goal state with all people and the torch on side B\n",
        "goal_state = (tuple(), tuple(sorted(side_A + side_B)), False)\n",
        "\n",
        "# Run UCS\n",
        "nodes_explored, nodes_processed, pathcost = uniform_cost_search(start_state, goal_state)\n",
        "path = reconstruct_path(nodes_explored, start_state, goal_state)\n",
        "\n",
        "# Print UCS output\n",
        "print(\"Uniform-Cost Search (UCS)\\n\")\n",
        "N = len(side_A) + len(side_B)  # Total number of people\n",
        "totalNodes = 2 * (2 ** N) - 2  # Every subset of people + torch position\n",
        "print(f\"Total nodes in the state space: {totalNodes}\")\n",
        "print(f\"Total nodes visited: {nodes_processed} | {np.round(100*(nodes_processed/totalNodes), 2)}%\")\n",
        "print(f\"Final path distance: {len(path)} steps\")\n",
        "print(\"Total Cost:\", pathcost.get(goal_state, \"No path found\"), \"minutes\", \"\\n\")\n",
        "\n",
        "# Print the path and visualize it\n",
        "print(\"Path through the states:\")\n",
        "show_path(path)\n",
        "print(pathcost)"
      ],
      "metadata": {
        "colab": {
          "base_uri": "https://localhost:8080/",
          "height": 1000
        },
        "id": "_VFkqTaT03PP",
        "outputId": "318894aa-c071-4185-a36a-64776e6c6b37"
      },
      "execution_count": null,
      "outputs": [
        {
          "output_type": "stream",
          "name": "stdout",
          "text": [
            "Uniform-Cost Search (UCS)\n",
            "\n",
            "Total nodes in the state space: 30\n",
            "Total nodes visited: 25 | 83.33%\n",
            "Final path distance: 6 steps\n",
            "Total Cost: 17 minutes \n",
            "\n",
            "Path through the states:\n",
            "Side A: (1, 2, 5, 10), Side B: (), Torch on A: True\n"
          ]
        },
        {
          "output_type": "display_data",
          "data": {
            "text/plain": [
              "<Figure size 300x300 with 1 Axes>"
            ],
            "image/png": "[encoded data removed]"
          },
          "metadata": {}
        },
        {
          "output_type": "stream",
          "name": "stdout",
          "text": [
            "Side A: (5, 10), Side B: (1, 2), Torch on A: False\n"
          ]
        },
        {
          "output_type": "display_data",
          "data": {
            "text/plain": [
              "<Figure size 300x300 with 1 Axes>"
            ],
            "image/png": "[encoded data removed]"
          },
          "metadata": {}
        },
        {
          "output_type": "stream",
          "name": "stdout",
          "text": [
            "Side A: (1, 5, 10), Side B: (2,), Torch on A: True\n"
          ]
        },
        {
          "output_type": "display_data",
          "data": {
            "text/plain": [
              "<Figure size 300x300 with 1 Axes>"
            ],
            "image/png": "[encoded data removed]"
          },
          "metadata": {}
        },
        {
          "output_type": "stream",
          "name": "stdout",
          "text": [
            "Side A: (1,), Side B: (2, 5, 10), Torch on A: False\n"
          ]
        },
        {
          "output_type": "display_data",
          "data": {
            "text/plain": [
              "<Figure size 300x300 with 1 Axes>"
            ],
            "image/png": "[encoded data removed]"
          },
          "metadata": {}
        },
        {
          "output_type": "stream",
          "name": "stdout",
          "text": [
            "Side A: (1, 2), Side B: (5, 10), Torch on A: True\n"
          ]
        },
        {
          "output_type": "display_data",
          "data": {
            "text/plain": [
              "<Figure size 300x300 with 1 Axes>"
            ],
            "image/png": "[encoded data removed]"
          },
          "metadata": {}
        },
        {
          "output_type": "stream",
          "name": "stdout",
          "text": [
            "Side A: (), Side B: (1, 2, 5, 10), Torch on A: False\n"
          ]
        },
        {
          "output_type": "display_data",
          "data": {
            "text/plain": [
              "<Figure size 300x300 with 1 Axes>"
            ],
            "image/png": "[encoded data removed]"
          },
          "metadata": {}
        },
        {
          "output_type": "stream",
          "name": "stdout",
          "text": [
            "{((1, 2, 5, 10), (), True): 0, ((5, 10), (1, 2), False): 2, ((2, 10), (1, 5), False): 5, ((2, 5), (1, 10), False): 10, ((1, 10), (2, 5), False): 5, ((1, 5), (2, 10), False): 10, ((1, 2), (5, 10), False): 10, ((1, 5, 10), (2,), True): 3, ((2, 5, 10), (1,), True): 4, ((10,), (1, 2, 5), False): 8, ((5,), (1, 2, 10), False): 13, ((1,), (2, 5, 10), False): 13, ((2,), (1, 5, 10), False): 14, ((1, 2, 10), (5,), True): 6, ((1, 10), (2, 5), True): 9, ((2, 10), (1, 5), True): 10, ((5, 10), (1, 2), True): 13, ((), (1, 2, 5, 10), False): 17, ((1, 2, 5), (10,), True): 11, ((1, 2), (5, 10), True): 15, ((1, 5), (2, 10), True): 14, ((2, 5), (1, 10), True): 15}\n"
          ]
        }
      ]
    },
    {
      "cell_type": "markdown",
      "source": [
        "Uniform-Cost Search return the optimal solution for the problem. However, it has to explored a large number of nodes before it finds the best path."
      ],
      "metadata": {
        "id": "FyIqdqFfmfEj"
      }
    },
    {
      "cell_type": "markdown",
      "source": [
        "---\n",
        "# 4. Depth-Limited Search function\n",
        "\n",
        "**1.** It is similar Depth-First search with a cutoff on the max depth of a path to avoid infinite searching.\\\n",
        "**2.** Incomplete if the solution lies deeper than the cutoff depth.\\\n",
        "**3.** If the solution lies within the cutoff depth, it works as same as Depth-First search.\\\n",
        "**4.** Give a fast solution but maybe not the best."
      ],
      "metadata": {
        "id": "fs8YQxfs1Gua"
      }
    },
    {
      "cell_type": "code",
      "source": [
        "def depth_limited_search(start, goal, max_depth):\n",
        "    '''Perform Depth-Limited Search (DLS) for the bridge-crossing problem.\n",
        "\n",
        "       Input:\n",
        "           - start: The initial state (tuple)\n",
        "           - goal: The goal state (tuple)\n",
        "           - get_next_states: Function to generate possible next states\n",
        "           - max_depth: The depth limit for the search\n",
        "       Output:\n",
        "           - Dict of explored states {state: parentState}\n",
        "           - Count of total nodes processed\n",
        "    '''\n",
        "    frontier = queue.LifoQueue()  # LIFO stack for DFS\n",
        "    frontier.put((start, 0))  # Push state with depth level 0\n",
        "    nodes_explored = {}  # Dictionary to track explored states and their parents\n",
        "    nodes_explored[start] = None  # Start state has no parent\n",
        "    nodes_processed = 0  # Number of nodes processed\n",
        "\n",
        "    while not frontier.empty():\n",
        "        current_state, depth = frontier.get()  # Unpack state and depth\n",
        "        nodes_processed += 1\n",
        "\n",
        "        # Stop if goal state is reached\n",
        "        if current_state == goal:\n",
        "            return nodes_explored, nodes_processed  # Stop and return immediately\n",
        "\n",
        "        # Expand only if within depth limit\n",
        "        if depth < max_depth:\n",
        "            next_states = get_next_states(*current_state)  # Generate next states\n",
        "\n",
        "            for state in next_states:\n",
        "                if state not in nodes_explored:\n",
        "                    frontier.put((state, depth + 1))  # Push with increased depth\n",
        "                    nodes_explored[state] = current_state  # Store parent state\n",
        "\n",
        "    return nodes_explored, nodes_processed  # Return explored path if goal not found"
      ],
      "metadata": {
        "id": "mnlQqAIT4jmb"
      },
      "execution_count": null,
      "outputs": []
    },
    {
      "cell_type": "code",
      "source": [
        "# Set the starting state and goal\n",
        "side_A = [1, 2, 5, 10]\n",
        "side_B = []\n",
        "torch_on_A = True\n",
        "\n",
        "# Start state with all people and the torch on side A\n",
        "start_state = (tuple(sorted(side_A)), tuple(sorted(side_B)), torch_on_A)\n",
        "# Goal state with all people and the torch on side B\n",
        "goal_state = (tuple(), tuple(sorted(side_A + side_B)), False)\n",
        "# Set a depth limit\n",
        "max_depth = 5\n",
        "\n",
        "nodes_explored, nodes_processed = depth_limited_search(start_state, goal_state, max_depth)\n",
        "\n",
        "# Print the results\n",
        "print(f\"Total nodes processed: {nodes_processed}\")\n",
        "\n",
        "if goal_state in nodes_explored:\n",
        "    path = reconstruct_path(nodes_explored, start_state, goal_state)\n",
        "    pathcost = compute_path_cost(path)\n",
        "    print(\"Depth-Limited Search (DLS)\\n\")\n",
        "    N = len(side_A) + len(side_B)  # Total number of people\n",
        "    totalNodes = 2 * (2 ** N) - 2  # Every subset of people + torch position\n",
        "    print(f\"Total nodes in the state space: {totalNodes}\")\n",
        "    print(f\"Total nodes visited: {nodes_processed} | {np.round(100*(nodes_processed/totalNodes), 2)}%\")\n",
        "    print(f\"Final path distance: {len(path)} steps\")\n",
        "    print(\"Total Cost:\", pathcost, \"\\n\")\n",
        "\n",
        "    # Print the path and visualize it\n",
        "    print(\"Path through the states:\")\n",
        "    show_path(path)\n",
        "\n",
        "else:\n",
        "    print(\"No solution found within depth limit.\")\n",
        "\n"
      ],
      "metadata": {
        "colab": {
          "base_uri": "https://localhost:8080/",
          "height": 1000
        },
        "id": "ByEFp9uz4nZ6",
        "outputId": "02423681-c58b-4a67-d869-4dc772fbff67"
      },
      "execution_count": null,
      "outputs": [
        {
          "output_type": "stream",
          "name": "stdout",
          "text": [
            "Total nodes processed: 6\n",
            "Depth-Limited Search (DLS)\n",
            "\n",
            "Total nodes in the state space: 30\n",
            "Total nodes visited: 6 | 20.0%\n",
            "Final path distance: 6 steps\n",
            "Total Cost: 50 \n",
            "\n",
            "Path through the states:\n",
            "Side A: (1, 2, 5, 10), Side B: (), Torch on A: True\n"
          ]
        },
        {
          "output_type": "display_data",
          "data": {
            "text/plain": [
              "<Figure size 300x300 with 1 Axes>"
            ],
            "image/png": "[encoded data removed]"
          },
          "metadata": {}
        },
        {
          "output_type": "stream",
          "name": "stdout",
          "text": [
            "Side A: (1, 2), Side B: (5, 10), Torch on A: False\n"
          ]
        },
        {
          "output_type": "display_data",
          "data": {
            "text/plain": [
              "<Figure size 300x300 with 1 Axes>"
            ],
            "image/png": "[encoded data removed]"
          },
          "metadata": {}
        },
        {
          "output_type": "stream",
          "name": "stdout",
          "text": [
            "Side A: (1, 2, 10), Side B: (5,), Torch on A: True\n"
          ]
        },
        {
          "output_type": "display_data",
          "data": {
            "text/plain": [
              "<Figure size 300x300 with 1 Axes>"
            ],
            "image/png": "[encoded data removed]"
          },
          "metadata": {}
        },
        {
          "output_type": "stream",
          "name": "stdout",
          "text": [
            "Side A: (1,), Side B: (2, 5, 10), Torch on A: False\n"
          ]
        },
        {
          "output_type": "display_data",
          "data": {
            "text/plain": [
              "<Figure size 300x300 with 1 Axes>"
            ],
            "image/png": "[encoded data removed]"
          },
          "metadata": {}
        },
        {
          "output_type": "stream",
          "name": "stdout",
          "text": [
            "Side A: (1, 10), Side B: (2, 5), Torch on A: True\n"
          ]
        },
        {
          "output_type": "display_data",
          "data": {
            "text/plain": [
              "<Figure size 300x300 with 1 Axes>"
            ],
            "image/png": "[encoded data removed]"
          },
          "metadata": {}
        },
        {
          "output_type": "stream",
          "name": "stdout",
          "text": [
            "Side A: (), Side B: (1, 2, 5, 10), Torch on A: False\n"
          ]
        },
        {
          "output_type": "display_data",
          "data": {
            "text/plain": [
              "<Figure size 300x300 with 1 Axes>"
            ],
            "image/png": "[encoded data removed]"
          },
          "metadata": {}
        }
      ]
    },
    {
      "cell_type": "markdown",
      "source": [
        "Using Depth-Limited Search can help us avoid infinite searching. Moreover, the solution found when the depth lies below the cutoff is not optimal because the search algorithm work the same way as Deep-First Search."
      ],
      "metadata": {
        "id": "d1HinZXzEuxj"
      }
    },
    {
      "cell_type": "markdown",
      "source": [
        "---\n",
        "# 5. Iterative Deepening Search function\n",
        "\n",
        "**1.** It Iteratively estimates the max depth of Deepth-Limited Seacrh one-by-one.\\\n",
        "**2.** It will always find a solution if one exists.\\\n",
        "**3.** Works well for infinite or very large search spaces.\\\n",
        "**4.** Optimal if the cost per step is the same as it finds the shallowest solution.\\\n",
        "**6.** It cannot guarantee the optimal time.\\\n",
        "**7.** It's quite memory efficient.\n"
      ],
      "metadata": {
        "id": "x57qZ8e01LeO"
      }
    },
    {
      "cell_type": "code",
      "source": [
        "def iterative_deepening_search(start, goal, max_depth_limit):\n",
        "    '''Perform Iterative Deepening Search (IDS).\n",
        "\n",
        "       Input:\n",
        "           - start: The initial state (tuple)\n",
        "           - goal: The goal state (tuple)\n",
        "           - get_next_states: Function to generate possible next states\n",
        "           - max_depth_limit: Maximum depth limit to avoid infinite loops\n",
        "       Output:\n",
        "           - Dict of explored states {state: parentState}\n",
        "           - Count of total nodes processed\n",
        "    '''\n",
        "\n",
        "    for depth_limit in range(max_depth_limit + 1):  # Incrementally increase depth\n",
        "        nodes_explored, nodes_processed = depth_limited_search(start, goal, depth_limit)\n",
        "\n",
        "        # If goal is found, return results\n",
        "        if goal in nodes_explored:\n",
        "            return nodes_explored, nodes_processed\n",
        "\n",
        "    return None, nodes_processed  # Return None if no solution found within limit"
      ],
      "metadata": {
        "id": "dBmBwwBE7Bze"
      },
      "execution_count": null,
      "outputs": []
    },
    {
      "cell_type": "code",
      "source": [
        "# Set the starting state and goal\n",
        "side_A = [1, 2, 5, 10]\n",
        "side_B = []\n",
        "torch_on_A = True\n",
        "\n",
        "# Start state with all people and the torch on side A\n",
        "start_state = (tuple(sorted(side_A)), tuple(sorted(side_B)), torch_on_A)\n",
        "# Goal state with all people and the torch on side B\n",
        "goal_state = (tuple(), tuple(sorted(side_A + side_B)), False)\n",
        "# Define a maximum depth limit\n",
        "max_depth_limit = 10\n",
        "\n",
        "nodes_explored, nodes_processed = iterative_deepening_search(start_state, goal_state, max_depth_limit)\n",
        "\n",
        "# Print results\n",
        "print(f\"Total nodes processed: {nodes_processed}\")\n",
        "\n",
        "if nodes_explored:\n",
        "    path = reconstruct_path(nodes_explored, start_state, goal_state)\n",
        "    pathcost = compute_path_cost(path)\n",
        "    print(\"Iterative Deepening Search (IDS)\\n\")\n",
        "    N = len(side_A) + len(side_B)  # Total number of people\n",
        "    totalNodes = 2 * (2 ** N) - 2  # Every subset of people + torch position\n",
        "    print(f\"Total nodes in the state space: {totalNodes}\")\n",
        "    print(f\"Total nodes visited: {nodes_processed} | {np.round(100*(nodes_processed/totalNodes), 2)}%\")\n",
        "    print(f\"Final path distance: {len(path)} steps\")\n",
        "    print(\"Total Cost:\", pathcost, \"\\n\")\n",
        "\n",
        "    # Print the path and visualize it\n",
        "    print(\"Path through the states:\")\n",
        "    show_path(path)\n",
        "\n",
        "else:\n",
        "    print(\"No solution found within depth limit.\")"
      ],
      "metadata": {
        "colab": {
          "base_uri": "https://localhost:8080/",
          "height": 1000
        },
        "id": "3QWlCxPQ7Fig",
        "outputId": "f8f13b7a-58a4-42c0-e770-a0ff38da3562"
      },
      "execution_count": null,
      "outputs": [
        {
          "output_type": "stream",
          "name": "stdout",
          "text": [
            "Total nodes processed: 6\n",
            "Iterative Deepening Search (IDS)\n",
            "\n",
            "Total nodes in the state space: 30\n",
            "Total nodes visited: 6 | 20.0%\n",
            "Final path distance: 6 steps\n",
            "Total Cost: 50 \n",
            "\n",
            "Path through the states:\n",
            "Side A: (1, 2, 5, 10), Side B: (), Torch on A: True\n"
          ]
        },
        {
          "output_type": "display_data",
          "data": {
            "text/plain": [
              "<Figure size 300x300 with 1 Axes>"
            ],
            "image/png": "[encoded data removed]"
          },
          "metadata": {}
        },
        {
          "output_type": "stream",
          "name": "stdout",
          "text": [
            "Side A: (1, 2), Side B: (5, 10), Torch on A: False\n"
          ]
        },
        {
          "output_type": "display_data",
          "data": {
            "text/plain": [
              "<Figure size 300x300 with 1 Axes>"
            ],
            "image/png": "[encoded data removed]"
          },
          "metadata": {}
        },
        {
          "output_type": "stream",
          "name": "stdout",
          "text": [
            "Side A: (1, 2, 10), Side B: (5,), Torch on A: True\n"
          ]
        },
        {
          "output_type": "display_data",
          "data": {
            "text/plain": [
              "<Figure size 300x300 with 1 Axes>"
            ],
            "image/png": "[encoded data removed]"
          },
          "metadata": {}
        },
        {
          "output_type": "stream",
          "name": "stdout",
          "text": [
            "Side A: (1,), Side B: (2, 5, 10), Torch on A: False\n"
          ]
        },
        {
          "output_type": "display_data",
          "data": {
            "text/plain": [
              "<Figure size 300x300 with 1 Axes>"
            ],
            "image/png": "[encoded data removed]"
          },
          "metadata": {}
        },
        {
          "output_type": "stream",
          "name": "stdout",
          "text": [
            "Side A: (1, 10), Side B: (2, 5), Torch on A: True\n"
          ]
        },
        {
          "output_type": "display_data",
          "data": {
            "text/plain": [
              "<Figure size 300x300 with 1 Axes>"
            ],
            "image/png": "[encoded data removed]"
          },
          "metadata": {}
        },
        {
          "output_type": "stream",
          "name": "stdout",
          "text": [
            "Side A: (), Side B: (1, 2, 5, 10), Torch on A: False\n"
          ]
        },
        {
          "output_type": "display_data",
          "data": {
            "text/plain": [
              "<Figure size 300x300 with 1 Axes>"
            ],
            "image/png": "[encoded data removed]"
          },
          "metadata": {}
        }
      ]
    },
    {
      "cell_type": "markdown",
      "source": [
        "Iterative Deepening Search can always find the solution if and its depth if it exists. However, the solution might not be optimal as it use Depth-First Search for each max depth interation."
      ],
      "metadata": {
        "id": "b90Teh49J-_Y"
      }
    },
    {
      "cell_type": "markdown",
      "source": [
        "---\n",
        "# II. Informed search strategies\n",
        "- Use problem-specific knowledge to guide the search\n",
        "- Usually more efficient\n",
        "- Best First Search: expand the most desirable unexpanded node by using an evaluation function."
      ],
      "metadata": {
        "id": "hl3jmWR9LD0d"
      }
    },
    {
      "cell_type": "markdown",
      "source": [
        "---\n",
        "# 6. Greedy Search function (with heuristic)\n",
        "\n",
        "**1.** This type of search can find the solution very quickly, especially in large states spaces.\\\n",
        "**2.** It's also very simple, it focus on what looks best next, there is no need to track cumulative cost.\n",
        "\n",
        "**However,** this type of search has plenty of drawbacks:\n",
        "\n",
        "**1.** It is not optimal and short-sighted (it does not account for moves that slow but necessary)\\\n",
        "**2.** It does not care the best path - just the best next one.\\\n",
        "**3.** Underestimates the big picture: It might point to a tempting but long term-worse move.\\\n",
        "**4.** Possible loop: It can revisit inefficient paths.\n"
      ],
      "metadata": {
        "id": "3P7qmHPN1PCJ"
      }
    },
    {
      "cell_type": "code",
      "source": [
        "def greedy_search(start, goal):\n",
        "    '''Perform Greedy Search (GS) to find a path in the bridge-crossing problem.\n",
        "\n",
        "       Input:\n",
        "           - start: The initial state (tuple)\n",
        "           - goal: The goal state (tuple)\n",
        "           - get_next_states: Function to generate possible next states\n",
        "           - heuristic: Function to estimate cost from a state to the goal\n",
        "       Output:\n",
        "           - Dict of explored states {state: parentState}\n",
        "           - Count of total nodes processed\n",
        "    '''\n",
        "\n",
        "    frontier = queue.PriorityQueue()  # Priority queue for GBFS\n",
        "    frontier.put((heuristic(start, goal), start))  # Priority is heuristic value\n",
        "    nodes_explored = {start: None}  # Dictionary to track explored states\n",
        "    nodes_processed = 0  # Count of nodes processed\n",
        "\n",
        "    while not frontier.empty():\n",
        "        _, current_state = frontier.get()\n",
        "        nodes_processed += 1\n",
        "\n",
        "        # Stop if goal state is reached\n",
        "        if current_state == goal:\n",
        "            return nodes_explored, nodes_processed\n",
        "\n",
        "        # Generate possible next states\n",
        "        next_states = get_next_states(current_state[0], current_state[1], current_state[2])\n",
        "\n",
        "        for state in next_states:\n",
        "            if state not in nodes_explored:\n",
        "                frontier.put((heuristic(state, goal), state))  # Prioritize by heuristic\n",
        "                nodes_explored[state] = current_state  # Store parent state\n",
        "\n",
        "    return None, nodes_processed  # No solution found"
      ],
      "metadata": {
        "id": "bAiqUzOv8Rlm"
      },
      "execution_count": null,
      "outputs": []
    },
    {
      "cell_type": "markdown",
      "source": [
        "---\n",
        "# Let's create heuristics:\n",
        "**It is about combined-max-time heurstic, in other words we summing:**\n",
        "- The slowest person still on Side A (who still needs to cross)\n",
        "- The slowest person already on Side B (who may need to return)\n",
        "\n",
        "**So our ideas is:**\n",
        "- Slow person still had to cross\n",
        "- Someone might need to come back\n",
        "- Accounting for at least two costly move\n",
        "\n",
        "**Let's try it with greedy search:**"
      ],
      "metadata": {
        "id": "ThuI1lQ61SzB"
      }
    },
    {
      "cell_type": "code",
      "source": [
        "def heuristic(state, goal):\n",
        "    '''Heuristic function for the bridge-crossing problem.\n",
        "       Estimate cost as the sum of the maximum remaining crossing times on Side A and Side B.\n",
        "    '''\n",
        "    side_A, side_B, torch_on_A = state\n",
        "\n",
        "    # If Side A has people left, return the maximum time remaining on Side A\n",
        "    if side_A:\n",
        "        max_side_A = max(side_A)\n",
        "    else:\n",
        "        max_side_A = 0\n",
        "\n",
        "    # If Side B has people, return the maximum time remaining on Side B\n",
        "    if side_B:\n",
        "        max_side_B = max(side_B)\n",
        "    else:\n",
        "        max_side_B = 0\n",
        "\n",
        "    # Return the sum of max times on both sides\n",
        "    return max_side_A + max_side_B"
      ],
      "metadata": {
        "id": "J8wWNhzl8Wk1"
      },
      "execution_count": null,
      "outputs": []
    },
    {
      "cell_type": "code",
      "source": [
        "# Set the starting state and goal\n",
        "side_A = [1, 2, 5, 10]\n",
        "side_B = []\n",
        "torch_on_A = True\n",
        "\n",
        "# Start state with all people and the torch on side A\n",
        "start_state = (tuple(sorted(side_A)), tuple(sorted(side_B)), torch_on_A)\n",
        "# Goal state with all people and the torch on side B\n",
        "goal_state = (tuple(), tuple(sorted(side_A + side_B)), False)\n",
        "\n",
        "nodes_explored, nodes_processed = greedy_search(start_state, goal_state)\n",
        "\n",
        "print(f\"Total nodes processed: {nodes_processed}\")\n",
        "\n",
        "if nodes_explored:\n",
        "    path = reconstruct_path(nodes_explored, start_state, goal_state)\n",
        "    pathcost = compute_path_cost(path)\n",
        "    print(\"Greedy Search (GS)\\n\")\n",
        "    N = len(side_A) + len(side_B)  # Total number of people\n",
        "    totalNodes = 2 * (2 ** N) - 2  # Every subset of people + torch position\n",
        "    print(f\"Total nodes in the state space: {totalNodes}\")\n",
        "    print(f\"Total nodes visited: {nodes_processed} | {np.round(100*(nodes_processed/totalNodes), 2)}%\")\n",
        "    print(f\"Final path distance: {len(path)} steps\")\n",
        "    print(\"Total Cost:\", pathcost, \"\\n\")\n",
        "\n",
        "    # Print the path and visualize it\n",
        "    print(\"Path through the states:\")\n",
        "    show_path(path)\n",
        "\n",
        "else:\n",
        "    print(\"No solution found.\")"
      ],
      "metadata": {
        "colab": {
          "base_uri": "https://localhost:8080/",
          "height": 1000
        },
        "id": "h1eWPBKH8aQP",
        "outputId": "1c6f66fb-2b3e-4f83-9f84-e9e5288594df"
      },
      "execution_count": null,
      "outputs": [
        {
          "output_type": "stream",
          "name": "stdout",
          "text": [
            "Total nodes processed: 8\n",
            "Greedy Search (GS)\n",
            "\n",
            "Total nodes in the state space: 30\n",
            "Total nodes visited: 8 | 26.67%\n",
            "Final path distance: 6 steps\n",
            "Total Cost: 17 \n",
            "\n",
            "Path through the states:\n",
            "Side A: (1, 2, 5, 10), Side B: (), Torch on A: True\n"
          ]
        },
        {
          "output_type": "display_data",
          "data": {
            "text/plain": [
              "<Figure size 300x300 with 1 Axes>"
            ],
            "image/png": "[encoded data removed]"
          },
          "metadata": {}
        },
        {
          "output_type": "stream",
          "name": "stdout",
          "text": [
            "Side A: (5, 10), Side B: (1, 2), Torch on A: False\n"
          ]
        },
        {
          "output_type": "display_data",
          "data": {
            "text/plain": [
              "<Figure size 300x300 with 1 Axes>"
            ],
            "image/png": "[encoded data removed]"
          },
          "metadata": {}
        },
        {
          "output_type": "stream",
          "name": "stdout",
          "text": [
            "Side A: (1, 5, 10), Side B: (2,), Torch on A: True\n"
          ]
        },
        {
          "output_type": "display_data",
          "data": {
            "text/plain": [
              "<Figure size 300x300 with 1 Axes>"
            ],
            "image/png": "[encoded data removed]"
          },
          "metadata": {}
        },
        {
          "output_type": "stream",
          "name": "stdout",
          "text": [
            "Side A: (1,), Side B: (2, 5, 10), Torch on A: False\n"
          ]
        },
        {
          "output_type": "display_data",
          "data": {
            "text/plain": [
              "<Figure size 300x300 with 1 Axes>"
            ],
            "image/png": "[encoded data removed]"
          },
          "metadata": {}
        },
        {
          "output_type": "stream",
          "name": "stdout",
          "text": [
            "Side A: (1, 2), Side B: (5, 10), Torch on A: True\n"
          ]
        },
        {
          "output_type": "display_data",
          "data": {
            "text/plain": [
              "<Figure size 300x300 with 1 Axes>"
            ],
            "image/png": "[encoded data removed]"
          },
          "metadata": {}
        },
        {
          "output_type": "stream",
          "name": "stdout",
          "text": [
            "Side A: (), Side B: (1, 2, 5, 10), Torch on A: False\n"
          ]
        },
        {
          "output_type": "display_data",
          "data": {
            "text/plain": [
              "<Figure size 300x300 with 1 Axes>"
            ],
            "image/png": "[encoded data removed]"
          },
          "metadata": {}
        }
      ]
    },
    {
      "cell_type": "markdown",
      "source": [
        "Greedy Search is able to find the optimal solution for this problem, with only 8 nodes explored, which is a significant improvement from Uniform-Cost Search."
      ],
      "metadata": {
        "id": "4KyAg_Mgy7xS"
      }
    },
    {
      "cell_type": "markdown",
      "source": [
        "---\n",
        "# 7. A* search function\n",
        "\n",
        "After creating a heuristic, we will implement it with A* search:\n",
        "\n",
        "**1.** It explore the node with the best total of current cost and predicted cost, estmated by heuristic.\\\n",
        "**2.** It's very optimal, it finds the shortest total crossing time.\\\n",
        "**3.** It's efficient, it explores fewer states than USC since it knows where the better choice.\\\n",
        "**4.** Avoid redundant choice like Depth-First Search take.\\\n",
        "**5.** Customizability: We can tweak the heuristic if we want some experiments."
      ],
      "metadata": {
        "id": "m_3zxqf41XHw"
      }
    },
    {
      "cell_type": "code",
      "source": [
        "def astar_search(start_state, goal_state):\n",
        "    ''' Function to perform A* search (A*S) to find a path in the bridge-crossing problem\n",
        "        Input  : start_state (tuple), goal_state (tuple), get_next_states (function)\n",
        "        Output : Dict of explored states, path costs, and processed nodes count\n",
        "    '''\n",
        "    frontier = queue.PriorityQueue()  # Priority Queue for Frontier\n",
        "\n",
        "    # Initialization\n",
        "    frontier.put((0, start_state))    # Add the start state to frontier with priority 0\n",
        "    nodes_explored = {}                     # Dict of explored states {state : parentState}\n",
        "    nodes_explored[start_state] = None      # start state has no parent node\n",
        "    pathcost = {}                     # Dict of cost from start to node\n",
        "    pathcost[start_state] = 0         # start to start cost should be 0\n",
        "    nodes_processed = 0                     # Count of total nodes processed\n",
        "\n",
        "    while not frontier.empty():\n",
        "        # Get the next node from frontier (state with lowest f(n))\n",
        "        current_state = frontier.get()[1]\n",
        "        nodes_processed += 1\n",
        "\n",
        "        # Stop when goal state is reached\n",
        "        if current_state == goal_state:\n",
        "            break\n",
        "\n",
        "        # Generate possible next states\n",
        "        next_states = get_next_states(current_state[0], current_state[1], current_state[2])\n",
        "\n",
        "        for state in next_states:\n",
        "            # Compute the new cost to reach the state\n",
        "            new_cost = pathcost[current_state] + 1  # Assumes 1 step for each transition\n",
        "\n",
        "            # If state hasn't been explored or new cost is lower, update\n",
        "            if state not in nodes_explored or new_cost < pathcost[state]:\n",
        "                # Set the priority: f(n) = g(n) + h(n)\n",
        "                priority = new_cost + heuristic(state, goal_state)\n",
        "\n",
        "                # Put new state in frontier with priority\n",
        "                frontier.put((priority, state))\n",
        "\n",
        "                # Assign current state as parent\n",
        "                nodes_explored[state] = current_state\n",
        "\n",
        "                # Keep track of the updated path cost\n",
        "                pathcost[state] = new_cost\n",
        "\n",
        "    return nodes_explored, nodes_processed, pathcost"
      ],
      "metadata": {
        "id": "0d_YOMi-9mvV"
      },
      "execution_count": null,
      "outputs": []
    },
    {
      "cell_type": "markdown",
      "source": [
        "We will use the same heuristic as for Greedy Search for A* Search."
      ],
      "metadata": {
        "id": "bTGxYZge0hhx"
      }
    },
    {
      "cell_type": "code",
      "source": [
        "def heuristic(state, goal):\n",
        "    '''Heuristic function for the bridge-crossing problem.\n",
        "       Estimate cost as the sum of the maximum remaining crossing times on Side A and Side B.\n",
        "    '''\n",
        "    side_A, side_B, torch_on_A = state\n",
        "\n",
        "    # If Side A has people left, return the maximum time remaining on Side A\n",
        "    if side_A:\n",
        "        max_side_A = max(side_A)\n",
        "    else:\n",
        "        max_side_A = 0\n",
        "\n",
        "    # If Side B has people, return the maximum time remaining on Side B (in case you need to handle different scenarios)\n",
        "    if side_B:\n",
        "        max_side_B = max(side_B)\n",
        "    else:\n",
        "        max_side_B = 0\n",
        "\n",
        "    # Return the sum of max times on both sides\n",
        "    return max_side_A + max_side_B"
      ],
      "metadata": {
        "id": "PQ_4WrrU9-GK"
      },
      "execution_count": null,
      "outputs": []
    },
    {
      "cell_type": "code",
      "source": [
        "# Set the starting state and goal\n",
        "side_A = [1, 2, 5, 10]\n",
        "side_B = []\n",
        "torch_on_A = True\n",
        "\n",
        "# Start state with all people and the torch on side A\n",
        "start_state = (tuple(sorted(side_A)), tuple(sorted(side_B)), torch_on_A)\n",
        "# Goal state with all people and the torch on side B\n",
        "goal_state = (tuple(), tuple(sorted(side_A + side_B)), False)\n",
        "\n",
        "# Run A* search\n",
        "nodes_explored, nodes_processed, pathcost = astar_search(start_state, goal_state)\n",
        "\n",
        "path = reconstruct_path(nodes_explored, start_state, goal_state)\n",
        "pathcost = compute_path_cost(path)\n",
        "\n",
        "# Print the explored states and the path cost\n",
        "print(\"A* search (A*S))\\n\")\n",
        "print(f\"Total nodes processed: {nodes_processed}\")\n",
        "N = len(side_A) + len(side_B)  # Total number of people\n",
        "totalNodes = 2 * (2 ** N) - 2  # Every subset of people + torch position\n",
        "print(f\"Total nodes in the state space: {totalNodes}\")\n",
        "print(f\"Total nodes visited: {nodes_processed} | {np.round(100*(nodes_processed/totalNodes), 2)}%\")\n",
        "print(f\"Final path distance: {len(path)} steps\")\n",
        "print(\"Total Cost:\", pathcost, \"\\n\")\n",
        "\n",
        "# Print the path and visualize it\n",
        "print(\"Path through the states:\")\n",
        "show_path(path)"
      ],
      "metadata": {
        "colab": {
          "base_uri": "https://localhost:8080/",
          "height": 1000
        },
        "id": "Ujaa1h_0-OJz",
        "outputId": "3ae6d0ae-1115-4499-8e54-2874b364e08f"
      },
      "execution_count": null,
      "outputs": [
        {
          "output_type": "stream",
          "name": "stdout",
          "text": [
            "A* search (A*S))\n",
            "\n",
            "Total nodes processed: 9\n",
            "Total nodes in the state space: 30\n",
            "Total nodes visited: 9 | 30.0%\n",
            "Final path distance: 6 steps\n",
            "Total Cost: 17 \n",
            "\n",
            "Path through the states:\n",
            "Side A: (1, 2, 5, 10), Side B: (), Torch on A: True\n"
          ]
        },
        {
          "output_type": "display_data",
          "data": {
            "text/plain": [
              "<Figure size 300x300 with 1 Axes>"
            ],
            "image/png": "[encoded data removed]"
          },
          "metadata": {}
        },
        {
          "output_type": "stream",
          "name": "stdout",
          "text": [
            "Side A: (5, 10), Side B: (1, 2), Torch on A: False\n"
          ]
        },
        {
          "output_type": "display_data",
          "data": {
            "text/plain": [
              "<Figure size 300x300 with 1 Axes>"
            ],
            "image/png": "[encoded data removed]"
          },
          "metadata": {}
        },
        {
          "output_type": "stream",
          "name": "stdout",
          "text": [
            "Side A: (1, 5, 10), Side B: (2,), Torch on A: True\n"
          ]
        },
        {
          "output_type": "display_data",
          "data": {
            "text/plain": [
              "<Figure size 300x300 with 1 Axes>"
            ],
            "image/png": "[encoded data removed]"
          },
          "metadata": {}
        },
        {
          "output_type": "stream",
          "name": "stdout",
          "text": [
            "Side A: (1,), Side B: (2, 5, 10), Torch on A: False\n"
          ]
        },
        {
          "output_type": "display_data",
          "data": {
            "text/plain": [
              "<Figure size 300x300 with 1 Axes>"
            ],
            "image/png": "[encoded data removed]"
          },
          "metadata": {}
        },
        {
          "output_type": "stream",
          "name": "stdout",
          "text": [
            "Side A: (1, 2), Side B: (5, 10), Torch on A: True\n"
          ]
        },
        {
          "output_type": "display_data",
          "data": {
            "text/plain": [
              "<Figure size 300x300 with 1 Axes>"
            ],
            "image/png": "[encoded data removed]"
          },
          "metadata": {}
        },
        {
          "output_type": "stream",
          "name": "stdout",
          "text": [
            "Side A: (), Side B: (1, 2, 5, 10), Torch on A: False\n"
          ]
        },
        {
          "output_type": "display_data",
          "data": {
            "text/plain": [
              "<Figure size 300x300 with 1 Axes>"
            ],
            "image/png": "[encoded data removed]"
          },
          "metadata": {}
        }
      ]
    },
    {
      "cell_type": "markdown",
      "source": [
        "A* Search is also return the best solution for this game with a small number of nodes explored."
      ],
      "metadata": {
        "id": "ZM__Fso60odU"
      }
    },
    {
      "cell_type": "markdown",
      "source": [
        "---\n",
        "# Conclusion\n",
        "\n",
        "In general, informed search strategies perform better than uninformed search strategies.\n",
        "- Both Greedy Search and A* Search are able to find the optimal path while explore only a small number of nodes.\n",
        "- Uniform-Cost Search strategy also returns the optimal answer. However, it has to explore 25 nodes before reaching the best option.\n",
        "- Breadth-First Search also explores many nodes, but it cannot give the least pathcost because the cost of the steps are different.\n",
        "- Depth-First Search, Depth-Limited Search and Iterative Deepening Search can find the solution with the minimum number of exploration but their costs are much higher than other strategies. This implies that these search strategies maybe more suitable for larger problems, which require their benefit in memory.  \n",
        "\n",
        "Therefore, it would be better if we can use informed search strategies. However, these strategies require information generated from heuristics function. As a result, it would take more time and consideration to create these functions before implementing the search strategies."
      ],
      "metadata": {
        "id": "KTf0z4nBXQhN"
      }
    }
  ]
}